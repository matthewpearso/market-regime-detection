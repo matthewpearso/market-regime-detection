{
 "cells": [
  {
   "cell_type": "code",
   "execution_count": null,
   "id": "e93763d7",
   "metadata": {},
   "outputs": [
    {
     "name": "stdout",
     "output_type": "stream",
     "text": [
      "YF.download() has changed argument auto_adjust default to True\n"
     ]
    },
    {
     "name": "stderr",
     "output_type": "stream",
     "text": [
      "[*********************100%***********************]  1 of 1 completed\n",
      "[*********************100%***********************]  1 of 1 completed\n"
     ]
    }
   ],
   "source": [
    "import yfinance as yf\n",
    "import pandas as pd\n",
    "\n",
    "# Downloading data from S&P 500 and Volatility Index\n",
    "sp500 = yf.download(\"^GSPC\", start=\"2010-01-01\", end=\"2025-01-01\")\n",
    "vix = yf.download(\"^VIX\", start=\"2010-01-01\", end=\"2025-01-01\")\n",
    "\n",
    "# Save locally to data folder\n",
    "sp500.to_csv(\"../data/sp500.csv\")\n",
    "vix.to_csv(\"../data/vix.csv\")"
   ]
  },
  {
   "cell_type": "code",
   "execution_count": null,
   "id": "4cc13f53",
   "metadata": {},
   "outputs": [],
   "source": []
  }
 ],
 "metadata": {
  "kernelspec": {
   "display_name": "Python 3",
   "language": "python",
   "name": "python3"
  },
  "language_info": {
   "codemirror_mode": {
    "name": "ipython",
    "version": 3
   },
   "file_extension": ".py",
   "mimetype": "text/x-python",
   "name": "python",
   "nbconvert_exporter": "python",
   "pygments_lexer": "ipython3",
   "version": "3.13.1"
  }
 },
 "nbformat": 4,
 "nbformat_minor": 5
}
